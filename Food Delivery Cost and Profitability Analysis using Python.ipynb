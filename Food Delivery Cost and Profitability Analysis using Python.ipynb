{
 "cells": [
  {
   "cell_type": "markdown",
   "id": "6906e03a",
   "metadata": {},
   "source": [
    "<div style=\"color:white;\n",
    "           display:fill;\n",
    "           border-radius:5px;\n",
    "           background-color:pink;\n",
    "           font-size:200%;\n",
    "           font-family:Serif;\n",
    "           letter-spacing:0.5px\">\n",
    "\n",
    "<p style=\"padding: 10px;\n",
    "          color:black;\n",
    "          font-size:120%;\n",
    "          text-align:center;\">\n",
    "Food Delivery Cost And Profitability Analysis Using Python\n",
    "</div>"
   ]
  },
  {
   "cell_type": "markdown",
   "id": "1fc6d920",
   "metadata": {},
   "source": [
    "# Importing the necessary Python Libraries"
   ]
  },
  {
   "cell_type": "code",
   "execution_count": 53,
   "id": "723a8242",
   "metadata": {},
   "outputs": [],
   "source": [
    "import pandas as pd\n",
    "import numpy as np\n",
    "from datetime import datetime as dt\n",
    "import matplotlib.pyplot as plt\n",
    "import seaborn as sns\n",
    "import re"
   ]
  },
  {
   "cell_type": "markdown",
   "id": "033f96b6",
   "metadata": {},
   "source": [
    "# Read the CSV file"
   ]
  },
  {
   "cell_type": "code",
   "execution_count": 3,
   "id": "5258f5aa",
   "metadata": {},
   "outputs": [],
   "source": [
    "df=pd.read_csv(\"C:\\\\Users\\\\hp\\\\Downloads\\\\food_orders_new_delhi.csv\")"
   ]
  },
  {
   "cell_type": "code",
   "execution_count": 4,
   "id": "a343e205",
   "metadata": {},
   "outputs": [
    {
     "data": {
      "text/html": [
       "<div>\n",
       "<style scoped>\n",
       "    .dataframe tbody tr th:only-of-type {\n",
       "        vertical-align: middle;\n",
       "    }\n",
       "\n",
       "    .dataframe tbody tr th {\n",
       "        vertical-align: top;\n",
       "    }\n",
       "\n",
       "    .dataframe thead th {\n",
       "        text-align: right;\n",
       "    }\n",
       "</style>\n",
       "<table border=\"1\" class=\"dataframe\">\n",
       "  <thead>\n",
       "    <tr style=\"text-align: right;\">\n",
       "      <th></th>\n",
       "      <th>Order ID</th>\n",
       "      <th>Customer ID</th>\n",
       "      <th>Restaurant ID</th>\n",
       "      <th>Order Date and Time</th>\n",
       "      <th>Delivery Date and Time</th>\n",
       "      <th>Order Value</th>\n",
       "      <th>Delivery Fee</th>\n",
       "      <th>Payment Method</th>\n",
       "      <th>Discounts and Offers</th>\n",
       "      <th>Commission Fee</th>\n",
       "      <th>Payment Processing Fee</th>\n",
       "      <th>Refunds/Chargebacks</th>\n",
       "    </tr>\n",
       "  </thead>\n",
       "  <tbody>\n",
       "    <tr>\n",
       "      <th>0</th>\n",
       "      <td>1</td>\n",
       "      <td>C8270</td>\n",
       "      <td>R2924</td>\n",
       "      <td>2024-02-01 01:11:52</td>\n",
       "      <td>2024-02-01 02:39:52</td>\n",
       "      <td>1914</td>\n",
       "      <td>0</td>\n",
       "      <td>Credit Card</td>\n",
       "      <td>5% on App</td>\n",
       "      <td>150</td>\n",
       "      <td>47</td>\n",
       "      <td>0</td>\n",
       "    </tr>\n",
       "    <tr>\n",
       "      <th>1</th>\n",
       "      <td>2</td>\n",
       "      <td>C1860</td>\n",
       "      <td>R2054</td>\n",
       "      <td>2024-02-02 22:11:04</td>\n",
       "      <td>2024-02-02 22:46:04</td>\n",
       "      <td>986</td>\n",
       "      <td>40</td>\n",
       "      <td>Digital Wallet</td>\n",
       "      <td>10%</td>\n",
       "      <td>198</td>\n",
       "      <td>23</td>\n",
       "      <td>0</td>\n",
       "    </tr>\n",
       "    <tr>\n",
       "      <th>2</th>\n",
       "      <td>3</td>\n",
       "      <td>C6390</td>\n",
       "      <td>R2870</td>\n",
       "      <td>2024-01-31 05:54:35</td>\n",
       "      <td>2024-01-31 06:52:35</td>\n",
       "      <td>937</td>\n",
       "      <td>30</td>\n",
       "      <td>Cash on Delivery</td>\n",
       "      <td>15% New User</td>\n",
       "      <td>195</td>\n",
       "      <td>45</td>\n",
       "      <td>0</td>\n",
       "    </tr>\n",
       "    <tr>\n",
       "      <th>3</th>\n",
       "      <td>4</td>\n",
       "      <td>C6191</td>\n",
       "      <td>R2642</td>\n",
       "      <td>2024-01-16 22:52:49</td>\n",
       "      <td>2024-01-16 23:38:49</td>\n",
       "      <td>1463</td>\n",
       "      <td>50</td>\n",
       "      <td>Cash on Delivery</td>\n",
       "      <td>None</td>\n",
       "      <td>146</td>\n",
       "      <td>27</td>\n",
       "      <td>0</td>\n",
       "    </tr>\n",
       "    <tr>\n",
       "      <th>4</th>\n",
       "      <td>5</td>\n",
       "      <td>C6734</td>\n",
       "      <td>R2799</td>\n",
       "      <td>2024-01-29 01:19:30</td>\n",
       "      <td>2024-01-29 02:48:30</td>\n",
       "      <td>1992</td>\n",
       "      <td>30</td>\n",
       "      <td>Cash on Delivery</td>\n",
       "      <td>50 off Promo</td>\n",
       "      <td>130</td>\n",
       "      <td>50</td>\n",
       "      <td>0</td>\n",
       "    </tr>\n",
       "    <tr>\n",
       "      <th>5</th>\n",
       "      <td>6</td>\n",
       "      <td>C7265</td>\n",
       "      <td>R2777</td>\n",
       "      <td>2024-01-25 04:36:52</td>\n",
       "      <td>2024-01-25 05:27:52</td>\n",
       "      <td>439</td>\n",
       "      <td>20</td>\n",
       "      <td>Cash on Delivery</td>\n",
       "      <td>10%</td>\n",
       "      <td>92</td>\n",
       "      <td>27</td>\n",
       "      <td>150</td>\n",
       "    </tr>\n",
       "    <tr>\n",
       "      <th>6</th>\n",
       "      <td>7</td>\n",
       "      <td>C1466</td>\n",
       "      <td>R2457</td>\n",
       "      <td>2024-01-12 23:55:48</td>\n",
       "      <td>2024-01-13 00:48:48</td>\n",
       "      <td>303</td>\n",
       "      <td>30</td>\n",
       "      <td>Digital Wallet</td>\n",
       "      <td>5% on App</td>\n",
       "      <td>144</td>\n",
       "      <td>12</td>\n",
       "      <td>50</td>\n",
       "    </tr>\n",
       "    <tr>\n",
       "      <th>7</th>\n",
       "      <td>8</td>\n",
       "      <td>C5426</td>\n",
       "      <td>R2978</td>\n",
       "      <td>2024-01-26 22:46:24</td>\n",
       "      <td>2024-01-27 00:36:24</td>\n",
       "      <td>260</td>\n",
       "      <td>0</td>\n",
       "      <td>Credit Card</td>\n",
       "      <td>10%</td>\n",
       "      <td>55</td>\n",
       "      <td>19</td>\n",
       "      <td>0</td>\n",
       "    </tr>\n",
       "    <tr>\n",
       "      <th>8</th>\n",
       "      <td>9</td>\n",
       "      <td>C6578</td>\n",
       "      <td>R2877</td>\n",
       "      <td>2024-01-02 18:29:59</td>\n",
       "      <td>2024-01-02 20:23:59</td>\n",
       "      <td>1663</td>\n",
       "      <td>40</td>\n",
       "      <td>Cash on Delivery</td>\n",
       "      <td>5% on App</td>\n",
       "      <td>116</td>\n",
       "      <td>48</td>\n",
       "      <td>0</td>\n",
       "    </tr>\n",
       "    <tr>\n",
       "      <th>9</th>\n",
       "      <td>10</td>\n",
       "      <td>C9322</td>\n",
       "      <td>R2161</td>\n",
       "      <td>2024-01-05 00:50:19</td>\n",
       "      <td>2024-01-05 02:10:19</td>\n",
       "      <td>491</td>\n",
       "      <td>40</td>\n",
       "      <td>Digital Wallet</td>\n",
       "      <td>10%</td>\n",
       "      <td>189</td>\n",
       "      <td>10</td>\n",
       "      <td>0</td>\n",
       "    </tr>\n",
       "  </tbody>\n",
       "</table>\n",
       "</div>"
      ],
      "text/plain": [
       "   Order ID Customer ID Restaurant ID  Order Date and Time  \\\n",
       "0         1       C8270         R2924  2024-02-01 01:11:52   \n",
       "1         2       C1860         R2054  2024-02-02 22:11:04   \n",
       "2         3       C6390         R2870  2024-01-31 05:54:35   \n",
       "3         4       C6191         R2642  2024-01-16 22:52:49   \n",
       "4         5       C6734         R2799  2024-01-29 01:19:30   \n",
       "5         6       C7265         R2777  2024-01-25 04:36:52   \n",
       "6         7       C1466         R2457  2024-01-12 23:55:48   \n",
       "7         8       C5426         R2978  2024-01-26 22:46:24   \n",
       "8         9       C6578         R2877  2024-01-02 18:29:59   \n",
       "9        10       C9322         R2161  2024-01-05 00:50:19   \n",
       "\n",
       "  Delivery Date and Time  Order Value  Delivery Fee    Payment Method  \\\n",
       "0    2024-02-01 02:39:52         1914             0       Credit Card   \n",
       "1    2024-02-02 22:46:04          986            40    Digital Wallet   \n",
       "2    2024-01-31 06:52:35          937            30  Cash on Delivery   \n",
       "3    2024-01-16 23:38:49         1463            50  Cash on Delivery   \n",
       "4    2024-01-29 02:48:30         1992            30  Cash on Delivery   \n",
       "5    2024-01-25 05:27:52          439            20  Cash on Delivery   \n",
       "6    2024-01-13 00:48:48          303            30    Digital Wallet   \n",
       "7    2024-01-27 00:36:24          260             0       Credit Card   \n",
       "8    2024-01-02 20:23:59         1663            40  Cash on Delivery   \n",
       "9    2024-01-05 02:10:19          491            40    Digital Wallet   \n",
       "\n",
       "  Discounts and Offers  Commission Fee  Payment Processing Fee  \\\n",
       "0            5% on App             150                      47   \n",
       "1                  10%             198                      23   \n",
       "2         15% New User             195                      45   \n",
       "3                 None             146                      27   \n",
       "4         50 off Promo             130                      50   \n",
       "5                  10%              92                      27   \n",
       "6            5% on App             144                      12   \n",
       "7                  10%              55                      19   \n",
       "8            5% on App             116                      48   \n",
       "9                  10%             189                      10   \n",
       "\n",
       "   Refunds/Chargebacks  \n",
       "0                    0  \n",
       "1                    0  \n",
       "2                    0  \n",
       "3                    0  \n",
       "4                    0  \n",
       "5                  150  \n",
       "6                   50  \n",
       "7                    0  \n",
       "8                    0  \n",
       "9                    0  "
      ]
     },
     "execution_count": 4,
     "metadata": {},
     "output_type": "execute_result"
    }
   ],
   "source": [
    "df.head(10)"
   ]
  },
  {
   "cell_type": "code",
   "execution_count": 5,
   "id": "bf47383b",
   "metadata": {},
   "outputs": [
    {
     "name": "stdout",
     "output_type": "stream",
     "text": [
      "<class 'pandas.core.frame.DataFrame'>\n",
      "RangeIndex: 1000 entries, 0 to 999\n",
      "Data columns (total 12 columns):\n",
      " #   Column                  Non-Null Count  Dtype \n",
      "---  ------                  --------------  ----- \n",
      " 0   Order ID                1000 non-null   int64 \n",
      " 1   Customer ID             1000 non-null   object\n",
      " 2   Restaurant ID           1000 non-null   object\n",
      " 3   Order Date and Time     1000 non-null   object\n",
      " 4   Delivery Date and Time  1000 non-null   object\n",
      " 5   Order Value             1000 non-null   int64 \n",
      " 6   Delivery Fee            1000 non-null   int64 \n",
      " 7   Payment Method          1000 non-null   object\n",
      " 8   Discounts and Offers    1000 non-null   object\n",
      " 9   Commission Fee          1000 non-null   int64 \n",
      " 10  Payment Processing Fee  1000 non-null   int64 \n",
      " 11  Refunds/Chargebacks     1000 non-null   int64 \n",
      "dtypes: int64(6), object(6)\n",
      "memory usage: 93.9+ KB\n"
     ]
    }
   ],
   "source": [
    "df.info()"
   ]
  },
  {
   "cell_type": "code",
   "execution_count": 6,
   "id": "99d63087",
   "metadata": {},
   "outputs": [
    {
     "data": {
      "text/plain": [
       "(1000, 12)"
      ]
     },
     "execution_count": 6,
     "metadata": {},
     "output_type": "execute_result"
    }
   ],
   "source": [
    "df.shape"
   ]
  },
  {
   "cell_type": "markdown",
   "id": "e1b91985",
   "metadata": {},
   "source": [
    "### This Dataset contains 1000 entries and 12 columns,with no missing values in any columns.Now We need to perform some **Data Cleaning** and preparation.Below are the necessary cleaning steps we need to take:"
   ]
  },
  {
   "cell_type": "markdown",
   "id": "0359ee26",
   "metadata": {},
   "source": [
    "# Cleaning Steps\n",
    "- Convert \"Order Date and Time\" and \"Delivery Date and Time\" to a datetime format"
   ]
  },
  {
   "cell_type": "code",
   "execution_count": 7,
   "id": "22285f3d",
   "metadata": {},
   "outputs": [],
   "source": [
    "df[\"Order Date and Time\"]=pd.to_datetime(df[\"Order Date and Time\"])"
   ]
  },
  {
   "cell_type": "code",
   "execution_count": 8,
   "id": "29d3379e",
   "metadata": {},
   "outputs": [],
   "source": [
    "df[\"Delivery Date and Time\"]=pd.to_datetime(df[\"Delivery Date and Time\"])"
   ]
  },
  {
   "cell_type": "markdown",
   "id": "1a5321e2",
   "metadata": {},
   "source": [
    "## Convert \"discounts and offers\" to a consistent numeric value or calculate the discount amount"
   ]
  },
  {
   "cell_type": "code",
   "execution_count": 9,
   "id": "aaefee80",
   "metadata": {},
   "outputs": [
    {
     "data": {
      "text/plain": [
       "array(['5% on App', '10%', '15% New User', 'None', '50 off Promo'],\n",
       "      dtype=object)"
      ]
     },
     "execution_count": 9,
     "metadata": {},
     "output_type": "execute_result"
    }
   ],
   "source": [
    "df[\"Discounts and Offers\"].unique()"
   ]
  },
  {
   "cell_type": "code",
   "execution_count": 10,
   "id": "7448db12",
   "metadata": {},
   "outputs": [],
   "source": [
    "def extract(value):\n",
    "    a=str(value).split()\n",
    "    return a[0]\n",
    "df[\"Discounts and Offers\"]=df[\"Discounts and Offers\"].apply(extract)"
   ]
  },
  {
   "cell_type": "code",
   "execution_count": 11,
   "id": "163edcd6",
   "metadata": {},
   "outputs": [],
   "source": [
    "df[\"Discounts and Offers\"]=df[\"Discounts and Offers\"].str.replace(\"None\",\"0\")"
   ]
  },
  {
   "cell_type": "code",
   "execution_count": 12,
   "id": "81cf27c3",
   "metadata": {},
   "outputs": [],
   "source": [
    "def removep(value):\n",
    "    if \"%\" in value:\n",
    "        a=value.replace(\"%\",\"\")\n",
    "        return float(a)\n",
    "    else:\n",
    "        return float(value)\n",
    "df[\"Discounts and Offers\"] =df[\"Discounts and Offers\"].apply(removep)   "
   ]
  },
  {
   "cell_type": "markdown",
   "id": "d451dc72",
   "metadata": {},
   "source": [
    "## Calculate discount amount"
   ]
  },
  {
   "cell_type": "code",
   "execution_count": 13,
   "id": "39722da4",
   "metadata": {},
   "outputs": [],
   "source": [
    "df.loc[(df[\"Discounts and Offers\"]<=15),\"Discounts and Offers\"]=(df[\"Discounts and Offers\"]/100)*df[\"Order Value\"]"
   ]
  },
  {
   "cell_type": "markdown",
   "id": "bff1b632",
   "metadata": {},
   "source": [
    "## the data is now ready with the following adjustmnets:\n",
    "    - Order Date and Time and Delivery date and Tme columns have been converted to datetime format.\n",
    "    - discount amount has been calculated based on the Discounts and offer column."
   ]
  },
  {
   "cell_type": "markdown",
   "id": "0c6e0d4e",
   "metadata": {},
   "source": [
    "# Cost and Profitabilty Analysis"
   ]
  },
  {
   "cell_type": "markdown",
   "id": "2c49f55f",
   "metadata": {},
   "source": [
    "For the cost Analysis,we'll consider the following costs associated with each order:\n",
    "- **Delivery Fee**: The fee charged for delivering the order,\n",
    "- **Payment Processsing Fee**: The Fee for processing the payment.\n",
    "- **Discount Amount**: The discount provided on the order"
   ]
  },
  {
   "cell_type": "markdown",
   "id": "d5a70970",
   "metadata": {},
   "source": [
    "#### We'll calculate the total cost for the platform per order and then aggregate this data to understand the overall cost structure"
   ]
  },
  {
   "cell_type": "code",
   "execution_count": 14,
   "id": "b5d376b1",
   "metadata": {},
   "outputs": [],
   "source": [
    "df[\"TotalCosts\"]=df[\"Delivery Fee\"]+df[\"Discounts and Offers\"]+df[\"Payment Processing Fee\"]"
   ]
  },
  {
   "cell_type": "code",
   "execution_count": 15,
   "id": "a13b20bc",
   "metadata": {},
   "outputs": [],
   "source": [
    "df[\"Revenue\"]=df[\"Commission Fee\"]"
   ]
  },
  {
   "cell_type": "code",
   "execution_count": 16,
   "id": "99189e8c",
   "metadata": {},
   "outputs": [],
   "source": [
    "df[\"Profit\"]=df[\"Revenue\"]- df[\"TotalCosts\"]"
   ]
  },
  {
   "cell_type": "markdown",
   "id": "b6382935",
   "metadata": {},
   "source": [
    "# Aggregate data"
   ]
  },
  {
   "cell_type": "code",
   "execution_count": 17,
   "id": "8528d506",
   "metadata": {},
   "outputs": [],
   "source": [
    "Total_Orders=df.shape[0]\n",
    "Total_Revenue=df[\"Revenue\"].sum()\n",
    "Total_Costs=df[\"TotalCosts\"].sum()\n",
    "Total_Profit=df[\"Profit\"].sum()\n"
   ]
  },
  {
   "cell_type": "code",
   "execution_count": 18,
   "id": "7746c4df",
   "metadata": {},
   "outputs": [],
   "source": [
    "Overall_Analysis={\"Total Orders\":Total_Orders,\"Total Revenue\":Total_Revenue,\"Total Costs\":Total_Costs,\"Total_Profit\":Total_Profit}"
   ]
  },
  {
   "cell_type": "code",
   "execution_count": 19,
   "id": "9e380b2c",
   "metadata": {},
   "outputs": [
    {
     "name": "stdout",
     "output_type": "stream",
     "text": [
      "Total Orders:1000\n",
      "\n",
      "Total Revenue:126990\n",
      "\n",
      "Total Costs:132741.85\n",
      "\n",
      "Total_Profit:-5751.85\n",
      "\n"
     ]
    }
   ],
   "source": [
    "for key,value in Overall_Analysis.items():\n",
    "    print(f\"{key}:{value}\\n\")"
   ]
  },
  {
   "cell_type": "markdown",
   "id": "2c79a126",
   "metadata": {},
   "source": [
    "# The analysis indicates that the total costs associated with the food delivery operation exceed the total revenue generated from commission fees,resulting in a net loss.It suggests that the cuurent commission rates,delivery fees and discount stategues might not be sustainable for profitablity "
   ]
  },
  {
   "cell_type": "markdown",
   "id": "8802c586",
   "metadata": {},
   "source": [
    "# To Better Understand the Distribution of Costs,Revenue and Profit"
   ]
  },
  {
   "cell_type": "code",
   "execution_count": 20,
   "id": "49f0c17c",
   "metadata": {},
   "outputs": [
    {
     "data": {
      "text/plain": [
       "Delivery Fee              28620.00\n",
       "Discounts and Offers      74289.85\n",
       "Payment Processing Fee    29832.00\n",
       "dtype: float64"
      ]
     },
     "execution_count": 20,
     "metadata": {},
     "output_type": "execute_result"
    }
   ],
   "source": [
    "cost_dist=df[[\"Delivery Fee\",\"Discounts and Offers\",\"Payment Processing Fee\"]].sum()\n",
    "cost_dist"
   ]
  },
  {
   "cell_type": "markdown",
   "id": "2300832d",
   "metadata": {},
   "source": [
    "# Proportion of Total Costs In Food Delivery"
   ]
  },
  {
   "cell_type": "code",
   "execution_count": 21,
   "id": "5a4b0117",
   "metadata": {},
   "outputs": [
    {
     "data": {
      "image/png": "[encoded data removed]",
      "text/plain": [
       "<Figure size 500x500 with 1 Axes>"
      ]
     },
     "metadata": {},
     "output_type": "display_data"
    }
   ],
   "source": [
    "plt.figure(figsize=(5,5))\n",
    "plt.pie(cost_dist,labels=cost_dist.index,autopct=\"%1.1f%%\",startangle=140,colors=[\"tomato\",\"gold\",\"lightblue\"])\n",
    "plt.title('Proportion of Total Costs In Food Delivery')\n",
    "plt.show()"
   ]
  },
  {
   "cell_type": "markdown",
   "id": "b76a9a70",
   "metadata": {},
   "source": [
    "# The pie chart illustrates that the breakdown of total costs into delivery fees,payment processisng fee and discount and offers.\n",
    "# Discount constitute a significant portion of the costs ,suggesting that promotional strategies miht be heavily impacting the overall profitablity"
   ]
  },
  {
   "cell_type": "markdown",
   "id": "073be64d",
   "metadata": {},
   "source": [
    "# Total Revenue,Costs and Profit"
   ]
  },
  {
   "cell_type": "code",
   "execution_count": 22,
   "id": "4986a0f0",
   "metadata": {},
   "outputs": [
    {
     "data": {
      "image/png": "[encoded data removed]",
      "text/plain": [
       "<Figure size 500x500 with 1 Axes>"
      ]
     },
     "metadata": {},
     "output_type": "display_data"
    }
   ],
   "source": [
    "totals=[\"Total Revenue\",\"Total Costs\",\"Total Profit\"]\n",
    "values=[Total_Revenue,Total_Costs,Total_Profit]\n",
    "plt.figure(figsize=(5,5))\n",
    "plt.bar(totals,values,color=[\"green\",\"red\",\"blue\"])\n",
    "plt.ylabel(\"Amount(INR)\")\n",
    "plt.show()"
   ]
  },
  {
   "cell_type": "markdown",
   "id": "0b117acd",
   "metadata": {},
   "source": [
    "# The bar chart compares total revenue,total costs and total profit.it visually represents the gap between revenue and costs,clearly showing that the costs surpass the revenue,leading to the total loss."
   ]
  },
  {
   "cell_type": "markdown",
   "id": "b3762a49",
   "metadata": {},
   "source": [
    "# Proportion of Payment Method In Food Delivery"
   ]
  },
  {
   "cell_type": "code",
   "execution_count": 24,
   "id": "8cc300c0",
   "metadata": {},
   "outputs": [],
   "source": [
    "Payment_Method=df[\"Payment Method\"].value_counts()"
   ]
  },
  {
   "cell_type": "code",
   "execution_count": 25,
   "id": "0a7afa78",
   "metadata": {},
   "outputs": [
    {
     "data": {
      "image/png": "[encoded data removed]",
      "text/plain": [
       "<Figure size 500x500 with 1 Axes>"
      ]
     },
     "metadata": {},
     "output_type": "display_data"
    }
   ],
   "source": [
    "plt.figure(figsize=(5,5))\n",
    "plt.pie(Payment_Method,labels=Payment_Method.index,autopct=\"%1.1f%%\",startangle=140,colors=[\"tomato\",\"gold\",\"lightblue\"])\n",
    "plt.title('Proportion of Payment Method In Food Delivery')\n",
    "plt.show()"
   ]
  },
  {
   "cell_type": "markdown",
   "id": "bacb7f70",
   "metadata": {},
   "source": [
    "# Mostly people using the cash on delievery for paying the amount."
   ]
  },
  {
   "cell_type": "markdown",
   "id": "dfa54ac8",
   "metadata": {},
   "source": [
    "# featuring Engineering : \n",
    "Extracting date,time,year,month,monthname,day,dayname"
   ]
  },
  {
   "cell_type": "code",
   "execution_count": null,
   "id": "8f4d4280",
   "metadata": {},
   "outputs": [],
   "source": [
    "type(df[\"Order Date and Time\"])"
   ]
  },
  {
   "cell_type": "code",
   "execution_count": 29,
   "id": "24cba6d2",
   "metadata": {},
   "outputs": [],
   "source": [
    "df[\"date\"]=[d.date() for d in df[\"Order Date and Time\"]]"
   ]
  },
  {
   "cell_type": "code",
   "execution_count": 37,
   "id": "3233e19e",
   "metadata": {},
   "outputs": [],
   "source": [
    "df[\"time\"]=[d.time() for d in df[\"Order Date and Time\"]]"
   ]
  },
  {
   "cell_type": "code",
   "execution_count": 32,
   "id": "b4df2451",
   "metadata": {},
   "outputs": [],
   "source": [
    "df[\"date\"]=pd.to_datetime(df[\"date\"])"
   ]
  },
  {
   "cell_type": "code",
   "execution_count": 39,
   "id": "075c77e5",
   "metadata": {},
   "outputs": [],
   "source": [
    "df[\"Year\"]=df.date.dt.year"
   ]
  },
  {
   "cell_type": "code",
   "execution_count": 41,
   "id": "00e97ddd",
   "metadata": {},
   "outputs": [],
   "source": [
    "df[\"month\"]=df.date.dt.month"
   ]
  },
  {
   "cell_type": "code",
   "execution_count": 43,
   "id": "b2f7c0f5",
   "metadata": {},
   "outputs": [],
   "source": [
    "df[\"day\"]=df.date.dt.day"
   ]
  },
  {
   "cell_type": "code",
   "execution_count": 45,
   "id": "fc0d9622",
   "metadata": {},
   "outputs": [],
   "source": [
    "df[\"day_name\"]=df.date.dt.day_name()"
   ]
  },
  {
   "cell_type": "code",
   "execution_count": 68,
   "id": "4a20d7d4",
   "metadata": {},
   "outputs": [
    {
     "data": {
      "text/html": [
       "<div>\n",
       "<style scoped>\n",
       "    .dataframe tbody tr th:only-of-type {\n",
       "        vertical-align: middle;\n",
       "    }\n",
       "\n",
       "    .dataframe tbody tr th {\n",
       "        vertical-align: top;\n",
       "    }\n",
       "\n",
       "    .dataframe thead th {\n",
       "        text-align: right;\n",
       "    }\n",
       "</style>\n",
       "<table border=\"1\" class=\"dataframe\">\n",
       "  <thead>\n",
       "    <tr style=\"text-align: right;\">\n",
       "      <th></th>\n",
       "      <th>Order ID</th>\n",
       "      <th>Customer ID</th>\n",
       "      <th>Restaurant ID</th>\n",
       "      <th>Order Date and Time</th>\n",
       "      <th>Delivery Date and Time</th>\n",
       "      <th>Order Value</th>\n",
       "      <th>Delivery Fee</th>\n",
       "      <th>Payment Method</th>\n",
       "      <th>Discounts and Offers</th>\n",
       "      <th>Commission Fee</th>\n",
       "      <th>...</th>\n",
       "      <th>Refunds/Chargebacks</th>\n",
       "      <th>TotalCosts</th>\n",
       "      <th>Revenue</th>\n",
       "      <th>Profit</th>\n",
       "      <th>date</th>\n",
       "      <th>time</th>\n",
       "      <th>Year</th>\n",
       "      <th>month</th>\n",
       "      <th>day</th>\n",
       "      <th>day_name</th>\n",
       "    </tr>\n",
       "  </thead>\n",
       "  <tbody>\n",
       "    <tr>\n",
       "      <th>0</th>\n",
       "      <td>1</td>\n",
       "      <td>C8270</td>\n",
       "      <td>R2924</td>\n",
       "      <td>2024-02-01 01:11:52</td>\n",
       "      <td>2024-02-01 02:39:52</td>\n",
       "      <td>1914</td>\n",
       "      <td>0</td>\n",
       "      <td>Credit Card</td>\n",
       "      <td>95.70</td>\n",
       "      <td>150</td>\n",
       "      <td>...</td>\n",
       "      <td>0</td>\n",
       "      <td>142.70</td>\n",
       "      <td>150</td>\n",
       "      <td>7.30</td>\n",
       "      <td>2024-02-01</td>\n",
       "      <td>01:11:52</td>\n",
       "      <td>2024</td>\n",
       "      <td>February</td>\n",
       "      <td>1</td>\n",
       "      <td>Thursday</td>\n",
       "    </tr>\n",
       "    <tr>\n",
       "      <th>1</th>\n",
       "      <td>2</td>\n",
       "      <td>C1860</td>\n",
       "      <td>R2054</td>\n",
       "      <td>2024-02-02 22:11:04</td>\n",
       "      <td>2024-02-02 22:46:04</td>\n",
       "      <td>986</td>\n",
       "      <td>40</td>\n",
       "      <td>Digital Wallet</td>\n",
       "      <td>98.60</td>\n",
       "      <td>198</td>\n",
       "      <td>...</td>\n",
       "      <td>0</td>\n",
       "      <td>161.60</td>\n",
       "      <td>198</td>\n",
       "      <td>36.40</td>\n",
       "      <td>2024-02-02</td>\n",
       "      <td>22:11:04</td>\n",
       "      <td>2024</td>\n",
       "      <td>February</td>\n",
       "      <td>2</td>\n",
       "      <td>Friday</td>\n",
       "    </tr>\n",
       "    <tr>\n",
       "      <th>2</th>\n",
       "      <td>3</td>\n",
       "      <td>C6390</td>\n",
       "      <td>R2870</td>\n",
       "      <td>2024-01-31 05:54:35</td>\n",
       "      <td>2024-01-31 06:52:35</td>\n",
       "      <td>937</td>\n",
       "      <td>30</td>\n",
       "      <td>Cash on Delivery</td>\n",
       "      <td>140.55</td>\n",
       "      <td>195</td>\n",
       "      <td>...</td>\n",
       "      <td>0</td>\n",
       "      <td>215.55</td>\n",
       "      <td>195</td>\n",
       "      <td>-20.55</td>\n",
       "      <td>2024-01-31</td>\n",
       "      <td>05:54:35</td>\n",
       "      <td>2024</td>\n",
       "      <td>January</td>\n",
       "      <td>31</td>\n",
       "      <td>Wednesday</td>\n",
       "    </tr>\n",
       "    <tr>\n",
       "      <th>3</th>\n",
       "      <td>4</td>\n",
       "      <td>C6191</td>\n",
       "      <td>R2642</td>\n",
       "      <td>2024-01-16 22:52:49</td>\n",
       "      <td>2024-01-16 23:38:49</td>\n",
       "      <td>1463</td>\n",
       "      <td>50</td>\n",
       "      <td>Cash on Delivery</td>\n",
       "      <td>0.00</td>\n",
       "      <td>146</td>\n",
       "      <td>...</td>\n",
       "      <td>0</td>\n",
       "      <td>77.00</td>\n",
       "      <td>146</td>\n",
       "      <td>69.00</td>\n",
       "      <td>2024-01-16</td>\n",
       "      <td>22:52:49</td>\n",
       "      <td>2024</td>\n",
       "      <td>January</td>\n",
       "      <td>16</td>\n",
       "      <td>Tuesday</td>\n",
       "    </tr>\n",
       "    <tr>\n",
       "      <th>4</th>\n",
       "      <td>5</td>\n",
       "      <td>C6734</td>\n",
       "      <td>R2799</td>\n",
       "      <td>2024-01-29 01:19:30</td>\n",
       "      <td>2024-01-29 02:48:30</td>\n",
       "      <td>1992</td>\n",
       "      <td>30</td>\n",
       "      <td>Cash on Delivery</td>\n",
       "      <td>50.00</td>\n",
       "      <td>130</td>\n",
       "      <td>...</td>\n",
       "      <td>0</td>\n",
       "      <td>130.00</td>\n",
       "      <td>130</td>\n",
       "      <td>0.00</td>\n",
       "      <td>2024-01-29</td>\n",
       "      <td>01:19:30</td>\n",
       "      <td>2024</td>\n",
       "      <td>January</td>\n",
       "      <td>29</td>\n",
       "      <td>Monday</td>\n",
       "    </tr>\n",
       "  </tbody>\n",
       "</table>\n",
       "<p>5 rows × 21 columns</p>\n",
       "</div>"
      ],
      "text/plain": [
       "   Order ID Customer ID Restaurant ID Order Date and Time  \\\n",
       "0         1       C8270         R2924 2024-02-01 01:11:52   \n",
       "1         2       C1860         R2054 2024-02-02 22:11:04   \n",
       "2         3       C6390         R2870 2024-01-31 05:54:35   \n",
       "3         4       C6191         R2642 2024-01-16 22:52:49   \n",
       "4         5       C6734         R2799 2024-01-29 01:19:30   \n",
       "\n",
       "  Delivery Date and Time  Order Value  Delivery Fee    Payment Method  \\\n",
       "0    2024-02-01 02:39:52         1914             0       Credit Card   \n",
       "1    2024-02-02 22:46:04          986            40    Digital Wallet   \n",
       "2    2024-01-31 06:52:35          937            30  Cash on Delivery   \n",
       "3    2024-01-16 23:38:49         1463            50  Cash on Delivery   \n",
       "4    2024-01-29 02:48:30         1992            30  Cash on Delivery   \n",
       "\n",
       "   Discounts and Offers  Commission Fee  ...  Refunds/Chargebacks  TotalCosts  \\\n",
       "0                 95.70             150  ...                    0      142.70   \n",
       "1                 98.60             198  ...                    0      161.60   \n",
       "2                140.55             195  ...                    0      215.55   \n",
       "3                  0.00             146  ...                    0       77.00   \n",
       "4                 50.00             130  ...                    0      130.00   \n",
       "\n",
       "   Revenue  Profit       date      time  Year     month day   day_name  \n",
       "0      150    7.30 2024-02-01  01:11:52  2024  February   1   Thursday  \n",
       "1      198   36.40 2024-02-02  22:11:04  2024  February   2     Friday  \n",
       "2      195  -20.55 2024-01-31  05:54:35  2024   January  31  Wednesday  \n",
       "3      146   69.00 2024-01-16  22:52:49  2024   January  16    Tuesday  \n",
       "4      130    0.00 2024-01-29  01:19:30  2024   January  29     Monday  \n",
       "\n",
       "[5 rows x 21 columns]"
      ]
     },
     "execution_count": 68,
     "metadata": {},
     "output_type": "execute_result"
    }
   ],
   "source": [
    "df.head()"
   ]
  },
  {
   "cell_type": "markdown",
   "id": "7d51d99d",
   "metadata": {},
   "source": [
    "# Peak Month "
   ]
  },
  {
   "cell_type": "code",
   "execution_count": 74,
   "id": "0b10d0ef",
   "metadata": {},
   "outputs": [
    {
     "data": {
      "text/plain": [
       "<Axes: xlabel='month', ylabel='TotalCosts'>"
      ]
     },
     "execution_count": 74,
     "metadata": {},
     "output_type": "execute_result"
    },
    {
     "data": {
      "image/png": "[encoded data removed]",
      "text/plain": [
       "<Figure size 640x480 with 1 Axes>"
      ]
     },
     "metadata": {},
     "output_type": "display_data"
    }
   ],
   "source": [
    "sns.barplot(x=\"month\",y=\"TotalCosts\",data=df,estimator=sum)"
   ]
  },
  {
   "cell_type": "markdown",
   "id": "a497a8d6",
   "metadata": {},
   "source": [
    "# Peak Day"
   ]
  },
  {
   "cell_type": "code",
   "execution_count": 100,
   "id": "ae507b93",
   "metadata": {},
   "outputs": [
    {
     "data": {
      "image/png": "[encoded data removed]",
      "text/plain": [
       "<Figure size 640x480 with 1 Axes>"
      ]
     },
     "metadata": {},
     "output_type": "display_data"
    }
   ],
   "source": [
    "sns.barplot(x=\"day\",y=\"TotalCosts\",data=df,estimator=sum)\n",
    "sns.set_context(\"paper\",rc={\"figure.figsize\":(15,15)})"
   ]
  },
  {
   "cell_type": "markdown",
   "id": "0d14dfff",
   "metadata": {},
   "source": [
    "# Peak Day"
   ]
  },
  {
   "cell_type": "code",
   "execution_count": 82,
   "id": "1f1c075e",
   "metadata": {},
   "outputs": [
    {
     "data": {
      "text/plain": [
       "<Axes: xlabel='day_name', ylabel='TotalCosts'>"
      ]
     },
     "execution_count": 82,
     "metadata": {},
     "output_type": "execute_result"
    },
    {
     "data": {
      "image/png": "[encoded data removed]",
      "text/plain": [
       "<Figure size 640x480 with 1 Axes>"
      ]
     },
     "metadata": {},
     "output_type": "display_data"
    }
   ],
   "source": [
    "sns.barplot(x=\"day_name\",y=\"TotalCosts\",data=df,estimator=sum)"
   ]
  },
  {
   "cell_type": "markdown",
   "id": "b433d65a",
   "metadata": {},
   "source": [
    "# January is the peak month and tuesday is the peak day for the restuarant."
   ]
  },
  {
   "cell_type": "markdown",
   "id": "539eec00",
   "metadata": {},
   "source": [
    "# So in this we can analyse the cost and profitability of a food delivery company."
   ]
  },
  {
   "cell_type": "code",
   "execution_count": null,
   "id": "be1b3da6",
   "metadata": {},
   "outputs": [],
   "source": []
  }
 ],
 "metadata": {
  "kernelspec": {
   "display_name": "Python 3 (ipykernel)",
   "language": "python",
   "name": "python3"
  },
  "language_info": {
   "codemirror_mode": {
    "name": "ipython",
    "version": 3
   },
   "file_extension": ".py",
   "mimetype": "text/x-python",
   "name": "python",
   "nbconvert_exporter": "python",
   "pygments_lexer": "ipython3",
   "version": "3.10.9"
  }
 },
 "nbformat": 4,
 "nbformat_minor": 5
}
